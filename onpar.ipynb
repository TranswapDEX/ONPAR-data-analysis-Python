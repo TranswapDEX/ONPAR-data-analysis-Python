{
 "cells": [
  {
   "cell_type": "code",
   "execution_count": 1,
   "metadata": {},
   "outputs": [],
   "source": [
    "import pandas as pd\n",
    "import numpy as np"
   ]
  },
  {
   "cell_type": "code",
   "execution_count": 2,
   "metadata": {},
   "outputs": [],
   "source": [
    "codes=pd.read_csv('/Users/blakemyers/Desktop/data/LightEOU_All.csv', sep=',', error_bad_lines=False, encoding='UTF8')"
   ]
  },
  {
   "cell_type": "code",
   "execution_count": 3,
   "metadata": {},
   "outputs": [
    {
     "data": {
      "text/html": [
       "<div>\n",
       "<style scoped>\n",
       "    .dataframe tbody tr th:only-of-type {\n",
       "        vertical-align: middle;\n",
       "    }\n",
       "\n",
       "    .dataframe tbody tr th {\n",
       "        vertical-align: top;\n",
       "    }\n",
       "\n",
       "    .dataframe thead th {\n",
       "        text-align: right;\n",
       "    }\n",
       "</style>\n",
       "<table border=\"1\" class=\"dataframe\">\n",
       "  <thead>\n",
       "    <tr style=\"text-align: right;\">\n",
       "      <th></th>\n",
       "      <th>TotalScore</th>\n",
       "      <th>S02</th>\n",
       "      <th>S03</th>\n",
       "      <th>S05</th>\n",
       "      <th>S06</th>\n",
       "      <th>S08</th>\n",
       "      <th>S10</th>\n",
       "      <th>S02_BottomLoudAmp</th>\n",
       "      <th>S02_incHigh</th>\n",
       "      <th>S02_incLoud</th>\n",
       "      <th>...</th>\n",
       "      <th>S10_RCarrow</th>\n",
       "      <th>S10_RCsome</th>\n",
       "      <th>S10_REarrow</th>\n",
       "      <th>S10_RefChair</th>\n",
       "      <th>S10_Remits</th>\n",
       "      <th>S10_REsome</th>\n",
       "      <th>S10_RLarrow</th>\n",
       "      <th>S10_RLsome</th>\n",
       "      <th>S10_yellow</th>\n",
       "      <th>hashID</th>\n",
       "    </tr>\n",
       "  </thead>\n",
       "  <tbody>\n",
       "    <tr>\n",
       "      <th>0</th>\n",
       "      <td>14</td>\n",
       "      <td>3</td>\n",
       "      <td>1</td>\n",
       "      <td>2</td>\n",
       "      <td>3</td>\n",
       "      <td>3</td>\n",
       "      <td>2</td>\n",
       "      <td>0</td>\n",
       "      <td>0</td>\n",
       "      <td>0</td>\n",
       "      <td>...</td>\n",
       "      <td>1</td>\n",
       "      <td>1</td>\n",
       "      <td>1</td>\n",
       "      <td>0</td>\n",
       "      <td>1</td>\n",
       "      <td>1</td>\n",
       "      <td>1</td>\n",
       "      <td>1</td>\n",
       "      <td>0</td>\n",
       "      <td>298c959c0cc8ffe9759bdf35d4976c81</td>\n",
       "    </tr>\n",
       "    <tr>\n",
       "      <th>1</th>\n",
       "      <td>10</td>\n",
       "      <td>1</td>\n",
       "      <td>3</td>\n",
       "      <td>0</td>\n",
       "      <td>1</td>\n",
       "      <td>3</td>\n",
       "      <td>2</td>\n",
       "      <td>0</td>\n",
       "      <td>1</td>\n",
       "      <td>1</td>\n",
       "      <td>...</td>\n",
       "      <td>1</td>\n",
       "      <td>1</td>\n",
       "      <td>1</td>\n",
       "      <td>1</td>\n",
       "      <td>1</td>\n",
       "      <td>1</td>\n",
       "      <td>1</td>\n",
       "      <td>1</td>\n",
       "      <td>0</td>\n",
       "      <td>99943d08758c420384f8254bcd3535b7</td>\n",
       "    </tr>\n",
       "    <tr>\n",
       "      <th>2</th>\n",
       "      <td>4</td>\n",
       "      <td>2</td>\n",
       "      <td>0</td>\n",
       "      <td>1</td>\n",
       "      <td>99</td>\n",
       "      <td>0</td>\n",
       "      <td>1</td>\n",
       "      <td>1</td>\n",
       "      <td>0</td>\n",
       "      <td>1</td>\n",
       "      <td>...</td>\n",
       "      <td>1</td>\n",
       "      <td>1</td>\n",
       "      <td>0</td>\n",
       "      <td>0</td>\n",
       "      <td>0</td>\n",
       "      <td>0</td>\n",
       "      <td>0</td>\n",
       "      <td>0</td>\n",
       "      <td>0</td>\n",
       "      <td>72550e33c9d772bd5ece065f3f525c6b</td>\n",
       "    </tr>\n",
       "    <tr>\n",
       "      <th>3</th>\n",
       "      <td>14</td>\n",
       "      <td>3</td>\n",
       "      <td>3</td>\n",
       "      <td>2</td>\n",
       "      <td>3</td>\n",
       "      <td>1</td>\n",
       "      <td>2</td>\n",
       "      <td>0</td>\n",
       "      <td>0</td>\n",
       "      <td>0</td>\n",
       "      <td>...</td>\n",
       "      <td>1</td>\n",
       "      <td>1</td>\n",
       "      <td>1</td>\n",
       "      <td>1</td>\n",
       "      <td>1</td>\n",
       "      <td>1</td>\n",
       "      <td>1</td>\n",
       "      <td>1</td>\n",
       "      <td>0</td>\n",
       "      <td>23ea96f6132eadc6451d4c622bd6cef2</td>\n",
       "    </tr>\n",
       "    <tr>\n",
       "      <th>4</th>\n",
       "      <td>7</td>\n",
       "      <td>3</td>\n",
       "      <td>0</td>\n",
       "      <td>0</td>\n",
       "      <td>2</td>\n",
       "      <td>0</td>\n",
       "      <td>2</td>\n",
       "      <td>0</td>\n",
       "      <td>0</td>\n",
       "      <td>0</td>\n",
       "      <td>...</td>\n",
       "      <td>0</td>\n",
       "      <td>0</td>\n",
       "      <td>0</td>\n",
       "      <td>1</td>\n",
       "      <td>1</td>\n",
       "      <td>0</td>\n",
       "      <td>0</td>\n",
       "      <td>0</td>\n",
       "      <td>0</td>\n",
       "      <td>df5965b42051ad38cb784331d91fff0d</td>\n",
       "    </tr>\n",
       "  </tbody>\n",
       "</table>\n",
       "<p>5 rows × 90 columns</p>\n",
       "</div>"
      ],
      "text/plain": [
       "   TotalScore  S02  S03  S05  S06  S08  S10  S02_BottomLoudAmp  S02_incHigh  \\\n",
       "0          14    3    1    2    3    3    2                  0            0   \n",
       "1          10    1    3    0    1    3    2                  0            1   \n",
       "2           4    2    0    1   99    0    1                  1            0   \n",
       "3          14    3    3    2    3    1    2                  0            0   \n",
       "4           7    3    0    0    2    0    2                  0            0   \n",
       "\n",
       "   S02_incLoud  ...  S10_RCarrow  S10_RCsome  S10_REarrow  S10_RefChair  \\\n",
       "0            0  ...            1           1            1             0   \n",
       "1            1  ...            1           1            1             1   \n",
       "2            1  ...            1           1            0             0   \n",
       "3            0  ...            1           1            1             1   \n",
       "4            0  ...            0           0            0             1   \n",
       "\n",
       "   S10_Remits  S10_REsome  S10_RLarrow  S10_RLsome  S10_yellow  \\\n",
       "0           1           1            1           1           0   \n",
       "1           1           1            1           1           0   \n",
       "2           0           0            0           0           0   \n",
       "3           1           1            1           1           0   \n",
       "4           1           0            0           0           0   \n",
       "\n",
       "                             hashID  \n",
       "0  298c959c0cc8ffe9759bdf35d4976c81  \n",
       "1  99943d08758c420384f8254bcd3535b7  \n",
       "2  72550e33c9d772bd5ece065f3f525c6b  \n",
       "3  23ea96f6132eadc6451d4c622bd6cef2  \n",
       "4  df5965b42051ad38cb784331d91fff0d  \n",
       "\n",
       "[5 rows x 90 columns]"
      ]
     },
     "execution_count": 3,
     "metadata": {},
     "output_type": "execute_result"
    }
   ],
   "source": [
    "codes.head(5)"
   ]
  },
  {
   "cell_type": "code",
   "execution_count": 4,
   "metadata": {},
   "outputs": [],
   "source": [
    "cols=[\"TotalScore\"]"
   ]
  },
  {
   "cell_type": "code",
   "execution_count": 5,
   "metadata": {},
   "outputs": [],
   "source": [
    "codes.drop(cols, axis=1, inplace=True)"
   ]
  },
  {
   "cell_type": "code",
   "execution_count": 6,
   "metadata": {},
   "outputs": [
    {
     "data": {
      "text/html": [
       "<div>\n",
       "<style scoped>\n",
       "    .dataframe tbody tr th:only-of-type {\n",
       "        vertical-align: middle;\n",
       "    }\n",
       "\n",
       "    .dataframe tbody tr th {\n",
       "        vertical-align: top;\n",
       "    }\n",
       "\n",
       "    .dataframe thead th {\n",
       "        text-align: right;\n",
       "    }\n",
       "</style>\n",
       "<table border=\"1\" class=\"dataframe\">\n",
       "  <thead>\n",
       "    <tr style=\"text-align: right;\">\n",
       "      <th></th>\n",
       "      <th>S02</th>\n",
       "      <th>S03</th>\n",
       "      <th>S05</th>\n",
       "      <th>S06</th>\n",
       "      <th>S08</th>\n",
       "      <th>S10</th>\n",
       "      <th>S02_BottomLoudAmp</th>\n",
       "      <th>S02_incHigh</th>\n",
       "      <th>S02_incLoud</th>\n",
       "      <th>S02_incLow</th>\n",
       "      <th>...</th>\n",
       "      <th>S10_RCarrow</th>\n",
       "      <th>S10_RCsome</th>\n",
       "      <th>S10_REarrow</th>\n",
       "      <th>S10_RefChair</th>\n",
       "      <th>S10_Remits</th>\n",
       "      <th>S10_REsome</th>\n",
       "      <th>S10_RLarrow</th>\n",
       "      <th>S10_RLsome</th>\n",
       "      <th>S10_yellow</th>\n",
       "      <th>hashID</th>\n",
       "    </tr>\n",
       "  </thead>\n",
       "  <tbody>\n",
       "    <tr>\n",
       "      <th>0</th>\n",
       "      <td>3</td>\n",
       "      <td>1</td>\n",
       "      <td>2</td>\n",
       "      <td>3</td>\n",
       "      <td>3</td>\n",
       "      <td>2</td>\n",
       "      <td>0</td>\n",
       "      <td>0</td>\n",
       "      <td>0</td>\n",
       "      <td>0</td>\n",
       "      <td>...</td>\n",
       "      <td>1</td>\n",
       "      <td>1</td>\n",
       "      <td>1</td>\n",
       "      <td>0</td>\n",
       "      <td>1</td>\n",
       "      <td>1</td>\n",
       "      <td>1</td>\n",
       "      <td>1</td>\n",
       "      <td>0</td>\n",
       "      <td>298c959c0cc8ffe9759bdf35d4976c81</td>\n",
       "    </tr>\n",
       "    <tr>\n",
       "      <th>1</th>\n",
       "      <td>1</td>\n",
       "      <td>3</td>\n",
       "      <td>0</td>\n",
       "      <td>1</td>\n",
       "      <td>3</td>\n",
       "      <td>2</td>\n",
       "      <td>0</td>\n",
       "      <td>1</td>\n",
       "      <td>1</td>\n",
       "      <td>1</td>\n",
       "      <td>...</td>\n",
       "      <td>1</td>\n",
       "      <td>1</td>\n",
       "      <td>1</td>\n",
       "      <td>1</td>\n",
       "      <td>1</td>\n",
       "      <td>1</td>\n",
       "      <td>1</td>\n",
       "      <td>1</td>\n",
       "      <td>0</td>\n",
       "      <td>99943d08758c420384f8254bcd3535b7</td>\n",
       "    </tr>\n",
       "    <tr>\n",
       "      <th>2</th>\n",
       "      <td>2</td>\n",
       "      <td>0</td>\n",
       "      <td>1</td>\n",
       "      <td>99</td>\n",
       "      <td>0</td>\n",
       "      <td>1</td>\n",
       "      <td>1</td>\n",
       "      <td>0</td>\n",
       "      <td>1</td>\n",
       "      <td>0</td>\n",
       "      <td>...</td>\n",
       "      <td>1</td>\n",
       "      <td>1</td>\n",
       "      <td>0</td>\n",
       "      <td>0</td>\n",
       "      <td>0</td>\n",
       "      <td>0</td>\n",
       "      <td>0</td>\n",
       "      <td>0</td>\n",
       "      <td>0</td>\n",
       "      <td>72550e33c9d772bd5ece065f3f525c6b</td>\n",
       "    </tr>\n",
       "    <tr>\n",
       "      <th>3</th>\n",
       "      <td>3</td>\n",
       "      <td>3</td>\n",
       "      <td>2</td>\n",
       "      <td>3</td>\n",
       "      <td>1</td>\n",
       "      <td>2</td>\n",
       "      <td>0</td>\n",
       "      <td>0</td>\n",
       "      <td>0</td>\n",
       "      <td>0</td>\n",
       "      <td>...</td>\n",
       "      <td>1</td>\n",
       "      <td>1</td>\n",
       "      <td>1</td>\n",
       "      <td>1</td>\n",
       "      <td>1</td>\n",
       "      <td>1</td>\n",
       "      <td>1</td>\n",
       "      <td>1</td>\n",
       "      <td>0</td>\n",
       "      <td>23ea96f6132eadc6451d4c622bd6cef2</td>\n",
       "    </tr>\n",
       "    <tr>\n",
       "      <th>4</th>\n",
       "      <td>3</td>\n",
       "      <td>0</td>\n",
       "      <td>0</td>\n",
       "      <td>2</td>\n",
       "      <td>0</td>\n",
       "      <td>2</td>\n",
       "      <td>0</td>\n",
       "      <td>0</td>\n",
       "      <td>0</td>\n",
       "      <td>0</td>\n",
       "      <td>...</td>\n",
       "      <td>0</td>\n",
       "      <td>0</td>\n",
       "      <td>0</td>\n",
       "      <td>1</td>\n",
       "      <td>1</td>\n",
       "      <td>0</td>\n",
       "      <td>0</td>\n",
       "      <td>0</td>\n",
       "      <td>0</td>\n",
       "      <td>df5965b42051ad38cb784331d91fff0d</td>\n",
       "    </tr>\n",
       "  </tbody>\n",
       "</table>\n",
       "<p>5 rows × 89 columns</p>\n",
       "</div>"
      ],
      "text/plain": [
       "   S02  S03  S05  S06  S08  S10  S02_BottomLoudAmp  S02_incHigh  S02_incLoud  \\\n",
       "0    3    1    2    3    3    2                  0            0            0   \n",
       "1    1    3    0    1    3    2                  0            1            1   \n",
       "2    2    0    1   99    0    1                  1            0            1   \n",
       "3    3    3    2    3    1    2                  0            0            0   \n",
       "4    3    0    0    2    0    2                  0            0            0   \n",
       "\n",
       "   S02_incLow  ...  S10_RCarrow  S10_RCsome  S10_REarrow  S10_RefChair  \\\n",
       "0           0  ...            1           1            1             0   \n",
       "1           1  ...            1           1            1             1   \n",
       "2           0  ...            1           1            0             0   \n",
       "3           0  ...            1           1            1             1   \n",
       "4           0  ...            0           0            0             1   \n",
       "\n",
       "   S10_Remits  S10_REsome  S10_RLarrow  S10_RLsome  S10_yellow  \\\n",
       "0           1           1            1           1           0   \n",
       "1           1           1            1           1           0   \n",
       "2           0           0            0           0           0   \n",
       "3           1           1            1           1           0   \n",
       "4           1           0            0           0           0   \n",
       "\n",
       "                             hashID  \n",
       "0  298c959c0cc8ffe9759bdf35d4976c81  \n",
       "1  99943d08758c420384f8254bcd3535b7  \n",
       "2  72550e33c9d772bd5ece065f3f525c6b  \n",
       "3  23ea96f6132eadc6451d4c622bd6cef2  \n",
       "4  df5965b42051ad38cb784331d91fff0d  \n",
       "\n",
       "[5 rows x 89 columns]"
      ]
     },
     "execution_count": 6,
     "metadata": {},
     "output_type": "execute_result"
    }
   ],
   "source": [
    "codes.head(5)"
   ]
  },
  {
   "cell_type": "code",
   "execution_count": 7,
   "metadata": {},
   "outputs": [],
   "source": [
    "c=codes.groupby(by=\"hashID\")[\"S10_REarrow\" and \"S10_RCarrow\"].count()"
   ]
  },
  {
   "cell_type": "code",
   "execution_count": 8,
   "metadata": {},
   "outputs": [
    {
     "data": {
      "text/plain": [
       "hashID\n",
       "002b2fd7b97f39226a5e56fc058cef9b    1\n",
       "014d46a7cdc44ed8bdd1f4cbe380137f    1\n",
       "01f66689628d7f989794130ea91f8579    1\n",
       "01f7b0931d9995007e5cfabd1cad4ee8    1\n",
       "022679978a83dae462d13cfada35706d    1\n",
       "Name: S10_RCarrow, dtype: int64"
      ]
     },
     "execution_count": 8,
     "metadata": {},
     "output_type": "execute_result"
    }
   ],
   "source": [
    "c.head(5)"
   ]
  },
  {
   "cell_type": "code",
   "execution_count": 9,
   "metadata": {},
   "outputs": [
    {
     "data": {
      "text/plain": [
       "892"
      ]
     },
     "execution_count": 9,
     "metadata": {},
     "output_type": "execute_result"
    }
   ],
   "source": [
    "len(c.index)"
   ]
  },
  {
   "cell_type": "code",
   "execution_count": 10,
   "metadata": {},
   "outputs": [
    {
     "data": {
      "text/plain": [
       "892"
      ]
     },
     "execution_count": 10,
     "metadata": {},
     "output_type": "execute_result"
    }
   ],
   "source": [
    "codes.shape[0]"
   ]
  },
  {
   "cell_type": "code",
   "execution_count": 11,
   "metadata": {},
   "outputs": [
    {
     "data": {
      "text/plain": [
       "892"
      ]
     },
     "execution_count": 11,
     "metadata": {},
     "output_type": "execute_result"
    }
   ],
   "source": [
    "np.count_nonzero(c)"
   ]
  },
  {
   "cell_type": "code",
   "execution_count": 24,
   "metadata": {},
   "outputs": [],
   "source": [
    "seriesObj = codes.apply(lambda x: True if (x['S10_REarrow']==1 and x['S10_RCarrow']==1) and x['S10_RefChair']==1  else False, axis=1)"
   ]
  },
  {
   "cell_type": "code",
   "execution_count": 25,
   "metadata": {},
   "outputs": [],
   "source": [
    "numOfRows = len(seriesObj[seriesObj == True].index)"
   ]
  },
  {
   "cell_type": "code",
   "execution_count": 26,
   "metadata": {},
   "outputs": [
    {
     "name": "stdout",
     "output_type": "stream",
     "text": [
      "81\n"
     ]
    }
   ],
   "source": [
    "print(numOfRows)"
   ]
  },
  {
   "cell_type": "code",
   "execution_count": null,
   "metadata": {},
   "outputs": [],
   "source": []
  }
 ],
 "metadata": {
  "kernelspec": {
   "display_name": "Python 3",
   "language": "python",
   "name": "python3"
  },
  "language_info": {
   "codemirror_mode": {
    "name": "ipython",
    "version": 3
   },
   "file_extension": ".py",
   "mimetype": "text/x-python",
   "name": "python",
   "nbconvert_exporter": "python",
   "pygments_lexer": "ipython3",
   "version": "3.7.7"
  }
 },
 "nbformat": 4,
 "nbformat_minor": 4
}
